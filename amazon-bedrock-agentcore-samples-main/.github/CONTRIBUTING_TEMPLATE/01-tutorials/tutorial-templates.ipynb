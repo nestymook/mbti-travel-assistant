{
 "cells": [
  {
   "metadata": {},
   "cell_type": "markdown",
   "source": [
    "# Template Instructions (this cell should be deleted)\n",
    "\n",
    "When creating a new tutorial in the `01-tutorial` folder you **must** follow the following structure to have your PR merged.\n",
    "\n",
    "Any tutorial must have:\n",
    "- a descriptive title\n",
    "- an overview section focused on what the tutorial should do including a tutorial architecture diagram\n",
    "- the prerequisites to execute the example\n",
    "- the tutorial setup instructions\n",
    "- the tutorial execution instructions\n",
    "- any cleanup instructions\n"
   ],
   "id": "df91178d9d9ad9bd"
  },
  {
   "metadata": {},
   "cell_type": "markdown",
   "source": [
    "# <Replace me with tutorial sample title\\>\n",
    "\n",
    "## Overview\n",
    "\n",
    "Add an overview of the tutorial that your agent is addressing. In this overview you should include the tutorial details following this table:\n",
    "\n",
    "\n",
    "### tutorial details\n",
    "| Information         | Details                                                                                                                             |\n",
    "|---------------------|-------------------------------------------------------------------------------------------------------------------------------------|\n",
    "| tutorial type       | conversational or event-driven                                                                                                      |\n",
    "| Agent type          | Single or multi-agent                                                                                                               |\n",
    "| tutorial components | any component being demonstrated in your tutorial.<br/> Includes: tools, rag, multi-modality, observability, evaluation, and others |\n",
    "| tutorial vertical   | the industry of your tutorial                                                                                                       |\n",
    "| Example complexity  | Easy, intermediate or advance                                                                                                       |\n",
    "| SDK used            | Amazon Bedrock AgentCore SDK, boto3, AWS CDK, AWS SDK for Java, ...                                                                |\n",
    "\n",
    "\n",
    "### tutorial Architecture\n",
    "\n",
    "The architecture diagram for your example\n",
    "\n",
    "### tutorial key Features\n",
    "\n",
    "Any functionality of your tutorial that you want to highlight\n"
   ],
   "id": "5c0122e65c053f38"
  },
  {
   "metadata": {},
   "cell_type": "markdown",
   "source": [
    "## Prerequisites\n",
    "\n",
    "Prerequisites to execute your tutorial in a list format. For instance:\n",
    "* Python 3.10+\n",
    "* AWS credentials\n",
    "* boto3 or Amazon Bedrock AgentCore SDK\n",
    "* ..."
   ],
   "id": "3a676f58ecf52b42"
  },
  {
   "metadata": {
    "collapsed": true
   },
   "cell_type": "code",
   "outputs": [],
   "execution_count": null,
   "source": "!pip install -r requirements.txt",
   "id": "initial_id"
  },
  {
   "metadata": {},
   "cell_type": "markdown",
   "source": [
    "## Tutorial step-by-step\n",
    "\n",
    "In the next cells you should provide the step-by-step setup and execution of your tutorial"
   ],
   "id": "ca924a7a2731e26f"
  },
  {
   "metadata": {
    "ExecuteTime": {
     "end_time": "2025-06-29T21:52:06.461281Z",
     "start_time": "2025-06-29T21:52:06.456854Z"
    }
   },
   "cell_type": "code",
   "source": "# code goes here",
   "id": "1226d59e6b56c96",
   "outputs": [],
   "execution_count": 1
  },
  {
   "metadata": {},
   "cell_type": "markdown",
   "source": [
    "## Cleanup instructions\n",
    "\n",
    "Don't forget to provide the cleanup instructions for any resources created"
   ],
   "id": "7d3fdfe404469632"
  },
  {
   "metadata": {},
   "cell_type": "code",
   "outputs": [],
   "execution_count": null,
   "source": "",
   "id": "76a6cf1416830a54"
  }
 ],
 "metadata": {
  "kernelspec": {
   "display_name": "Python 3",
   "language": "python",
   "name": "python3"
  },
  "language_info": {
   "codemirror_mode": {
    "name": "ipython",
    "version": 2
   },
   "file_extension": ".py",
   "mimetype": "text/x-python",
   "name": "python",
   "nbconvert_exporter": "python",
   "pygments_lexer": "ipython2",
   "version": "2.7.6"
  }
 },
 "nbformat": 4,
 "nbformat_minor": 5
}
